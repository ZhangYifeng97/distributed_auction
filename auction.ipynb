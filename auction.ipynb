{
 "cells": [
  {
   "cell_type": "code",
   "execution_count": 2,
   "metadata": {
    "scrolled": false
   },
   "outputs": [
    {
     "data": {
      "image/png": "[encoded data removed]",
      "text/plain": [
       "<Figure size 432x288 with 1 Axes>"
      ]
     },
     "metadata": {},
     "output_type": "display_data"
    }
   ],
   "source": [
    "import networkx as nx\n",
    "import matplotlib.pyplot as plt\n",
    "import random\n",
    "import copy\n",
    "\n",
    "G = nx.Graph()\n",
    "\n",
    "\n",
    "\n",
    "nodes = [i for i in range(1, 8)]\n",
    "edges = [(1, 2), (1, 3),(2, 4), (3, 4), (4, 6), (5, 6), (5, 7), (6, 7)]\n",
    "\n",
    "G.add_nodes_from(nodes)\n",
    "G.add_edges_from(edges)\n",
    "\n",
    "nx.draw(G, with_labels=True, font_weight='bold')\n",
    "plt.show()"
   ]
  },
  {
   "cell_type": "code",
   "execution_count": 27,
   "metadata": {},
   "outputs": [],
   "source": [
    "def get_dt(G, source=1):\n",
    "    i = 0\n",
    "    dt = {}\n",
    "    for start, end in list(nx.algorithms.edge_dfs(G, source=source)):\n",
    "        if start not in dt:\n",
    "            dt[start] = i\n",
    "            i += 1\n",
    "        if end not in dt:\n",
    "            dt[end] = i\n",
    "            i += 1\n",
    "    return dt"
   ]
  },
  {
   "cell_type": "code",
   "execution_count": 49,
   "metadata": {},
   "outputs": [
    {
     "data": {
      "image/png": "[encoded data removed]",
      "text/plain": [
       "<Figure size 432x288 with 1 Axes>"
      ]
     },
     "metadata": {},
     "output_type": "display_data"
    },
    {
     "name": "stdout",
     "output_type": "stream",
     "text": [
      "parent of 1 []\n",
      "child of 1 [2]\n",
      "parent of 2 [1]\n",
      "child of 2 [4]\n",
      "parent of 3 [4]\n",
      "child of 3 []\n",
      "parent of 4 [2]\n",
      "child of 4 [3, 6]\n",
      "parent of 5 [6]\n",
      "child of 5 [7]\n",
      "parent of 6 [4]\n",
      "child of 6 [5]\n",
      "parent of 7 [5]\n",
      "child of 7 []\n"
     ]
    }
   ],
   "source": [
    "dt = get_dt(G, source=1)\n",
    "\n",
    "valuations = {}\n",
    "for i in range(1, 8):\n",
    "    valuations[i] = {\"valuation\": i}\n",
    "nx.set_node_attributes(G, valuations)\n",
    "\n",
    "def argmax(d):\n",
    "    \"\"\" a) create a list of the dict's keys and values; \n",
    "        b) return the key with the max value\"\"\"  \n",
    "    v = list(d.values())\n",
    "    k = list(d.keys())\n",
    "    return k[v.index(max(v))]\n",
    "\n",
    "def get_minus_di_and_Ti(i, G):\n",
    "    G_without_i = copy.deepcopy(G)\n",
    "    G_without_i.remove_node(i)\n",
    "    left_nodes_after_removing_i = nx.dfs_tree(G_without_i, source=1).nodes\n",
    "    minus_di = left_nodes_after_removing_i\n",
    "    new_G = copy.deepcopy(G)\n",
    "    new_G.remove_nodes_from(left_nodes_after_removing_i)\n",
    "    Ti = nx.dfs_tree(new_G, source=i)\n",
    "    return minus_di, Ti\n",
    "\n",
    "\n",
    "\n",
    "def show_di_and_Ti(i, G):\n",
    "    minus_di, Ti = get_minus_di_and_Ti(i, G)\n",
    "    di = [i for i in G.nodes if i not in minus_di]\n",
    "    print(\"di: \", di)\n",
    "    print(\"minus_di: \", minus_di)\n",
    "    nx.draw(Ti, with_labels=True, font_weight='bold')\n",
    "    plt.show()\n",
    "\n",
    "minus_d6, T6 = get_minus_di_and_Ti(6, G)\n",
    "\n",
    "\n",
    "\n",
    "# def get_full_dfs_tree(G, source=1):\n",
    "#     full_dfs_tree = nx.DiGraph()\n",
    "#     full_dfs_tree.add_nodes_from(G.nodes)\n",
    "#     dfs_edges = list(nx.algorithms.edge_dfs(G, source=source))\n",
    "#     print(dfs_edges)\n",
    "#     full_dfs_tree.add_edges_from(dfs_edges)\n",
    "#     full_dfs_tree.source = source\n",
    "#     print(full_dfs_tree.source)\n",
    "#     return full_dfs_tree\n",
    "\n",
    "dfs_tree = nx.dfs_tree(G, source=1)\n",
    "nx.draw(dfs_tree, with_labels=True, font_weight='bold')\n",
    "plt.show()\n",
    "\n",
    "def get_parent(i, dfs_tree):\n",
    "    return [edge[0] for edge in dfs_tree.in_edges(i)]\n",
    "\n",
    "def get_child(i, dfs_tree):\n",
    "    return [edge[1] for edge in dfs_tree.out_edges(i)]\n",
    "\n",
    "def get_dtTi(dt, Ti):\n",
    "    new_dt = dict((node, dt[node]) for node in Ti.nodes)\n",
    "    return max(new_dt.values())\n",
    "\n",
    "def get_eti(i):\n",
    "    pass\n",
    "\n",
    "def get_wi(i):\n",
    "    pass\n",
    "\n",
    "    \n",
    "    \n",
    "    \n"
   ]
  },
  {
   "cell_type": "code",
   "execution_count": 12,
   "metadata": {},
   "outputs": [],
   "source": [
    "labels = nx.get_node_attributes(G, 'valuation')\n",
    "\n",
    "\n",
    "\n"
   ]
  },
  {
   "cell_type": "code",
   "execution_count": null,
   "metadata": {},
   "outputs": [],
   "source": []
  }
 ],
 "metadata": {
  "kernelspec": {
   "display_name": "Python 3",
   "language": "python",
   "name": "python3"
  },
  "language_info": {
   "codemirror_mode": {
    "name": "ipython",
    "version": 3
   },
   "file_extension": ".py",
   "mimetype": "text/x-python",
   "name": "python",
   "nbconvert_exporter": "python",
   "pygments_lexer": "ipython3",
   "version": "3.7.1"
  }
 },
 "nbformat": 4,
 "nbformat_minor": 2
}
